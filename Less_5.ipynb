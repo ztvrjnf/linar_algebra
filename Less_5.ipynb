{
 "cells": [
  {
   "cell_type": "markdown",
   "metadata": {},
   "source": [
    "1. Найти с помощью NumPy SVD для матрицы"
   ]
  },
  {
   "cell_type": "code",
   "execution_count": 1,
   "metadata": {},
   "outputs": [],
   "source": [
    "import numpy as np"
   ]
  },
  {
   "cell_type": "code",
   "execution_count": 5,
   "metadata": {},
   "outputs": [
    {
     "name": "stdout",
     "output_type": "stream",
     "text": [
      "Матрица A:\n",
      "[[ 1  2  0]\n",
      " [ 0  0  5]\n",
      " [ 3 -4  2]\n",
      " [ 1  6  5]\n",
      " [ 0  1  0]]\n"
     ]
    }
   ],
   "source": [
    "A = np.array([[1,2,0], [0,0,5], [3,-4,2], [1,6,5], [0,1,0]])\n",
    "print(f'Матрица A:\\n{A}')"
   ]
  },
  {
   "cell_type": "code",
   "execution_count": 6,
   "metadata": {},
   "outputs": [],
   "source": [
    "U, s, W = np.linalg.svd(A)\n",
    "\n",
    "# Транспонируем матрицу\n",
    "V = W.T\n",
    "\n",
    "# s - список диагональных элементов, его нужно привести к виду диагональной матрицы для наглядности\n",
    "D = np.zeros_like(A, dtype=float)\n",
    "D[np.diag_indices(min(A.shape))] = s"
   ]
  },
  {
   "cell_type": "code",
   "execution_count": 7,
   "metadata": {
    "scrolled": true
   },
   "outputs": [
    {
     "name": "stdout",
     "output_type": "stream",
     "text": [
      "Матрица D:\n",
      "[[8.82486885 0.         0.        ]\n",
      " [0.         6.14060608 0.        ]\n",
      " [0.         0.         2.53271528]\n",
      " [0.         0.         0.        ]\n",
      " [0.         0.         0.        ]]\n"
     ]
    }
   ],
   "source": [
    "print(f'Матрица D:\\n{D}')"
   ]
  },
  {
   "cell_type": "code",
   "execution_count": 8,
   "metadata": {},
   "outputs": [
    {
     "name": "stdout",
     "output_type": "stream",
     "text": [
      "Матрица U:\n",
      "[[ 0.17056501  0.15680918 -0.53077508 -0.79905375 -0.16158397]\n",
      " [ 0.39287016 -0.52933945  0.6134793  -0.43375771  0.03082495]\n",
      " [-0.14366152 -0.82449256 -0.52379105  0.14049848  0.07400343]\n",
      " [ 0.88843702  0.06074346 -0.24655277  0.37755832 -0.06042632]\n",
      " [ 0.08125046  0.10831843 -0.08231425 -0.10524851  0.98173958]]\n"
     ]
    }
   ],
   "source": [
    "print(f'Матрица U:\\n{U}')"
   ]
  },
  {
   "cell_type": "code",
   "execution_count": 9,
   "metadata": {},
   "outputs": [
    {
     "name": "stdout",
     "output_type": "stream",
     "text": [
      "Матрица V:\n",
      "[[ 0.07116451 -0.36737824 -0.92734505]\n",
      " [ 0.71702467  0.66514082 -0.20847855]\n",
      " [ 0.69340553 -0.65009301  0.31075368]]\n"
     ]
    }
   ],
   "source": [
    "print(f'Матрица V:\\n{V}')"
   ]
  },
  {
   "cell_type": "markdown",
   "metadata": {},
   "source": [
    "2. Для матрицы из предыдущего задания найти:\n",
    "\n",
    "а) евклидову норму;\n",
    "\n",
    "б) норму Фробениуса."
   ]
  },
  {
   "cell_type": "markdown",
   "metadata": {},
   "source": [
    "a) евклидова норма матрицы равна евклидовой норме диагональной матрицы из ее сингулярных чисел D. Максимальное значение полученного отношения будет равно максимальному сингулярному числу μmax,"
   ]
  },
  {
   "cell_type": "code",
   "execution_count": 10,
   "metadata": {},
   "outputs": [
    {
     "data": {
      "text/plain": [
       "8.824868854820444"
      ]
     },
     "execution_count": 10,
     "metadata": {},
     "output_type": "execute_result"
    }
   ],
   "source": [
    "D[0][0]"
   ]
  },
  {
   "cell_type": "markdown",
   "metadata": {},
   "source": [
    "б) норму Фробениуса можно получить из диагональной матрицы D"
   ]
  },
  {
   "cell_type": "code",
   "execution_count": 13,
   "metadata": {},
   "outputs": [
    {
     "data": {
      "text/plain": [
       "11.045361017187263"
      ]
     },
     "execution_count": 13,
     "metadata": {},
     "output_type": "execute_result"
    }
   ],
   "source": [
    "np.sqrt(np.sum(D**2))"
   ]
  },
  {
   "cell_type": "code",
   "execution_count": null,
   "metadata": {},
   "outputs": [],
   "source": []
  }
 ],
 "metadata": {
  "kernelspec": {
   "display_name": "Python 3",
   "language": "python",
   "name": "python3"
  },
  "language_info": {
   "codemirror_mode": {
    "name": "ipython",
    "version": 3
   },
   "file_extension": ".py",
   "mimetype": "text/x-python",
   "name": "python",
   "nbconvert_exporter": "python",
   "pygments_lexer": "ipython3",
   "version": "3.8.5"
  }
 },
 "nbformat": 4,
 "nbformat_minor": 2
}
