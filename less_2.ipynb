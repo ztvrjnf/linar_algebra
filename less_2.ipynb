{
 "cells": [
  {
   "cell_type": "code",
   "execution_count": 1,
   "metadata": {},
   "outputs": [],
   "source": [
    "import numpy as np\n",
    "from sympy import *"
   ]
  },
  {
   "cell_type": "markdown",
   "metadata": {},
   "source": [
    "Вычислить определитель:\n",
    "\n",
    "   a)\n",
    "\n",
    "$$\\begin{vmatrix}\n",
    "sinx & -cosx\\\\ \n",
    "cosx & sinx\n",
    "\\end{vmatrix};$$\n",
    "\n",
    "Определитель $detA$ второго порядка,  матрицы $A$ определяется как\n",
    "\n",
    "$$detA=|A|=\\begin{vmatrix}\n",
    "a_{11} & a_{12}\\\\ \n",
    "a_{21} & a_{22}\n",
    "\\end{vmatrix}=a_{11}a_{22} - a_{12}a_{21}.$$\n",
    "\n",
    "$$detA = |A| = \\left| {\\begin{array}{*{20}{c}}\n",
    "{sinx}&{ - cosx}\\\\\n",
    "{cosx}&{sinx}\n",
    "\\end{array}} \\right| = sinx \\cdot sinx + cosx \\cdot cosx = sin{x^2} + cos{x^2} = 1.$$"
   ]
  },
  {
   "cell_type": "code",
   "execution_count": 2,
   "metadata": {},
   "outputs": [
    {
     "name": "stdout",
     "output_type": "stream",
     "text": [
      "Матрица:\n",
      "Matrix([[sin(x), -cos(x)], [cos(x), sin(x)]])\n",
      "Определитель:\n",
      "sin(x)**2 + cos(x)**2\n",
      "Определитель:\n",
      "1\n"
     ]
    }
   ],
   "source": [
    "x = symbols(\"x\")\n",
    "M = Matrix([[sin(x), -cos(x)], [cos(x), sin(x)]])\n",
    "a = M.det()\n",
    "\n",
    "print(f'Матрица:\\n{M}')\n",
    "print(f'Определитель:\\n{a}')\n",
    "print(f'Определитель:\\n{simplify(a)}')\n"
   ]
  },
  {
   "cell_type": "markdown",
   "metadata": {},
   "source": [
    "Определитель матрицы $A$ равен $4$. Найти:\n",
    "\n",
    "   а) $det(A^{2})$;\n",
    "    \n",
    "   б) $det(A^{T})$;\n",
    "    \n",
    "   в) $det(2A)$."
   ]
  },
  {
   "cell_type": "markdown",
   "metadata": {},
   "source": [
    "а) Согласно свойству матриц, для двух квадратных матриц одинакового размера $det(AB)=detA\\cdot detB.$ Следовательно \n",
    "$$det(A^2)=det(AA)\\;=\\;det(A)det(A)=4\\times4=16$$\n",
    "\n",
    "б) Согласно свойству матриц, определитель транспонированной матрицы равен определителю исходной. Откуда $det(A^{T})=4$\n",
    "\n",
    "в) Согласно свойству матриц, умножение строки или столбца матрицы на число  𝜆  приведет к умножению определителя матрицы на то же число. Следовательно \n",
    "$$det(2A)=2\\times4=8$$"
   ]
  },
  {
   "cell_type": "markdown",
   "metadata": {},
   "source": [
    "Доказать, что матрица\n",
    "\n",
    "$$\\begin{pmatrix}\n",
    "-2 & 7 & -3\\\\ \n",
    "4 & -14 & 6\\\\ \n",
    "-3 & 7 & 13\n",
    "\\end{pmatrix}$$\n",
    "   \n",
    "вырожденная."
   ]
  },
  {
   "cell_type": "markdown",
   "metadata": {},
   "source": [
    "По определеию, матрица называется _сингулярной_, или _вырожденной_, если ее определитель равен нулю.\n",
    "\n",
    "Вычислим определитель заданной матрицы.\n",
    "\n",
    "$\\begin{pmatrix}-2&7&-3\\\\4&-14&6\\\\-3&7&13\\end{pmatrix}=-2\\begin{vmatrix}-14&6\\\\7&13\\end{vmatrix}-7\\begin{vmatrix}4&6\\\\-3&13\\end{vmatrix}-3\\begin{vmatrix}4&-14\\\\-3&7\\end{vmatrix}=-2\\cdot(-14\\cdot13-7\\cdot6)-7\\cdot(4\\cdot13+3\\cdot6)-3\\cdot(4\\cdot7-14\\cdot3)=448-490+42=0$\n",
    "\n",
    "Матрица является вырожденной."
   ]
  },
  {
   "cell_type": "code",
   "execution_count": 3,
   "metadata": {},
   "outputs": [
    {
     "name": "stdout",
     "output_type": "stream",
     "text": [
      "Матрица:\n",
      "[[ -2   7  -3]\n",
      " [  4 -14   6]\n",
      " [ -3   7  13]]\n",
      "Определитель:\n",
      "0\n"
     ]
    }
   ],
   "source": [
    "a = np.array([[-2, 7, -3], [4, -14, 6], [-3, 7, 13]])\n",
    "print(f'Матрица:\\n{a}')\n",
    "print(f'Определитель:\\n{np.linalg.det(a):.0f}')"
   ]
  },
  {
   "cell_type": "markdown",
   "metadata": {},
   "source": [
    "Найти ранг матрицы:\n",
    "\n",
    "   а) $\\begin{pmatrix}\n",
    "1 & 2 & 3\\\\ \n",
    "1 & 1 & 1\\\\ \n",
    "2 & 3 & 4\n",
    "\\end{pmatrix};$\n",
    "\n",
    "   б) $\\begin{pmatrix}\n",
    "0 & 0 & 2 & 1\\\\ \n",
    "0 & 0 & 2 & 2\\\\ \n",
    "0 & 0 & 4 & 3\\\\ \n",
    "2 & 3 & 5 & 6\n",
    "\\end{pmatrix}.$"
   ]
  },
  {
   "cell_type": "markdown",
   "metadata": {},
   "source": [
    "а) найдем минор второго порядка \n",
    "\n",
    "$\\left| {\\begin{array}{*{20}{c}}\n",
    "1&2\\\\\n",
    "1&1\n",
    "\\end{array}} \\right| = 1 - 2 =  - 1$ так как минор не равен 0, то ранг матрицы $r \\ge 2$\n",
    "\n",
    "Найдем минор 3го порядка который совпадает с определителем матрицы.\n",
    "\n",
    "$\\left( {\\begin{array}{*{20}{c}}\n",
    "1&2&3\\\\\n",
    "1&1&1\\\\\n",
    "2&3&4\n",
    "\\end{array}} \\right) = \\left| {\\begin{array}{*{20}{c}}\n",
    "1&1\\\\\n",
    "3&4\n",
    "\\end{array}} \\right| - \\left| {\\begin{array}{*{20}{c}}\n",
    "1&1\\\\\n",
    "2&4\n",
    "\\end{array}} \\right| + \\left| {\\begin{array}{*{20}{c}}\n",
    "1&1\\\\\n",
    "2&3\n",
    "\\end{array}} \\right| = 4 - 3 - 4 + 2 + 3 - 2 = 0$\n",
    "\n",
    "Так как минор 3го порядка равен 0, то ранг матрицы $r \\ge 2$"
   ]
  },
  {
   "cell_type": "markdown",
   "metadata": {},
   "source": [
    "а) найдем минор второго порядка\n",
    "\n",
    "$\\left| {\\begin{array}{*{20}{c}}\n",
    "2&1\\\\\n",
    "2&2\n",
    "\\end{array}} \\right| = 4 - 2 = 2$ так как минор не равен 0, то ранг матрицы $r \\ge 2$\n",
    "\n",
    "Найдем минор 3го порядка\n",
    "\n",
    "$\\left| {\\begin{array}{*{20}{c}}\n",
    "0&2&2\\\\\n",
    "0&4&3\\\\\n",
    "3&5&6\n",
    "\\end{array}} \\right| = 0 - 2 \\cdot \\left| {\\begin{array}{*{20}{c}}\n",
    "0&3\\\\\n",
    "3&6\n",
    "\\end{array}} \\right| + 2 \\cdot \\left| {\\begin{array}{*{20}{c}}\n",
    "0&4\\\\\n",
    "3&5\n",
    "\\end{array}} \\right| = 18 - 24 =  - 6$ так как минор не равен 0, то ранг матрицы $r \\ge 3$\n",
    "\n",
    "Найдем минор 4го порядка который совпадает с определителем матрицы.\n",
    "\n",
    "$\\left( {\\begin{array}{*{20}{c}}\n",
    "0&0&2&1\\\\\n",
    "0&0&2&2\\\\\n",
    "0&0&4&3\\\\\n",
    "2&3&5&6\n",
    "\\end{array}} \\right) = 0 - 0 + 2 \\cdot \\left| {\\begin{array}{*{20}{c}}\n",
    "0&0&2\\\\\n",
    "0&0&3\\\\\n",
    "2&3&6\n",
    "\\end{array}} \\right| - \\left| {\\begin{array}{*{20}{c}}\n",
    "0&0&2\\\\\n",
    "0&0&4\\\\\n",
    "2&3&5\n",
    "\\end{array}} \\right| = 2 \\cdot \\left( {0 - 0 + 2 \\cdot \\left| {\\begin{array}{*{20}{c}}\n",
    "0&0\\\\\n",
    "2&3\n",
    "\\end{array}} \\right|} \\right) + \\left( {0 - 0 + 2 \\cdot \\left| {\\begin{array}{*{20}{c}}\n",
    "0&0\\\\\n",
    "2&3\n",
    "\\end{array}} \\right|} \\right) = 0$ \n",
    "\n",
    "Так как минор 4го порядка равен 0, то ранг матрицы $r \\ge 3$\n"
   ]
  },
  {
   "cell_type": "code",
   "execution_count": 4,
   "metadata": {},
   "outputs": [
    {
     "name": "stdout",
     "output_type": "stream",
     "text": [
      "Ранг матрицы a: 2\n",
      "Ранг матрицы б: 3\n"
     ]
    }
   ],
   "source": [
    "a = np.array([[1, 2, 3], [1, 1, 1], [2, 3, 4]])\n",
    "r = np.linalg.matrix_rank(a)\n",
    "print(f'Ранг матрицы a: {r}')\n",
    "\n",
    "b = np.array([[0,0,2,1], [0,0,2,2], [0,0,4,3], [2,3,5,6]])\n",
    "r = np.linalg.matrix_rank(b)\n",
    "print(f'Ранг матрицы б: {r}')\n"
   ]
  },
  {
   "cell_type": "markdown",
   "metadata": {},
   "source": [
    "Установить, какие произведения матриц $AB$ и $BA$ определены, и найти размерности полученных матриц:\n",
    "\n",
    "   а) $A$ — матрица $4\\times 2$, $B$ — матрица $4\\times 2$;\n",
    "    \n",
    "   б) $A$ — матрица $2\\times 5$, $B$ — матрица $5\\times 3$;\n",
    "    \n",
    "   в) $A$ — матрица $8\\times 3$, $B$ — матрица $3\\times 8$;\n",
    "    \n",
    "   г) $A$ — квадратная матрица $4\\times 4$, $B$ — квадратная матрица $4\\times 4$.\n",
    "   "
   ]
  },
  {
   "cell_type": "markdown",
   "metadata": {},
   "source": [
    "что бы матрицу $A$ можно было умножить матрицу $B$, __необходимо, чтобы число столбцов матрицы $A$ было равно числу строк матрицы $B$.__\n",
    "\n",
    "_Произведением_ матрицы $A = \\left\\|a_{ij}\\right\\|$, имеющей порядки $m$ и $n$, и матрицы $B = \\left\\|b_{ij}\\right\\|$, имеющей порядки $n$ и $k$, называется матрица $C = \\left\\|c_{ij}\\right\\|$, имеющая порядки $m$ и $k$.\n",
    "\n",
    "Из этого следует, что:\n",
    "\n",
    "а) произведение матриц $AB$ и $BA$ не определены, так как число столбцов и строк матриц не равны\n",
    "\n",
    "б) произведение матриц $AB$, размерность матрицы $2 \\times 3$\n",
    "\n",
    "в) произведение матриц $AB$ и $BA$ определены, размерность $8 \\times 8$ и $3 \\times 3$ соответственно.\n",
    "\n",
    "г) произведение матриц $AB$ и $BA$ определены, размерность $4 \\times 4$ для обоих произведений.\n"
   ]
  },
  {
   "cell_type": "markdown",
   "metadata": {},
   "source": [
    "Найти сумму и произведение матриц $A=\\begin{pmatrix}\n",
    "1 & -2\\\\ \n",
    "3 & 0\n",
    "\\end{pmatrix}$ и $B=\\begin{pmatrix}\n",
    "4 & -1\\\\ \n",
    "0 & 5\n",
    "\\end{pmatrix}.$\n",
    "\n",
    "Сумма матриц\n",
    "\n",
    "$A + B = \\left( {\\begin{array}{*{20}{c}}\n",
    "1&{ - 2}\\\\\n",
    "3&0\n",
    "\\end{array}} \\right) + \\left( {\\begin{array}{*{20}{c}}\n",
    "4&{ - 1}\\\\\n",
    "0&5\n",
    "\\end{array}} \\right) = \\left( {\\begin{array}{*{20}{c}}\n",
    "{1 + 4}&{ - 2 - 1}\\\\\n",
    "{3 + 0}&{0 + 5}\n",
    "\\end{array}} \\right) = \\left( {\\begin{array}{*{20}{c}}\n",
    "5&{ - 3}\\\\\n",
    "3&5\n",
    "\\end{array}} \\right)$\n",
    "\n",
    "\n",
    "Произведенрие матриц\n",
    "\n",
    "$A \\cdot B = \\left( {\\begin{array}{*{20}{c}}\n",
    "1&{ - 2}\\\\\n",
    "3&0\n",
    "\\end{array}} \\right) \\cdot \\left( {\\begin{array}{*{20}{c}}\n",
    "4&{ - 1}\\\\\n",
    "0&5\n",
    "\\end{array}} \\right) = \\left( {\\begin{array}{*{20}{c}}\n",
    "{1 \\cdot 4 - 2 \\cdot 0}&{ - 1 - 2 \\cdot 5}\\\\\n",
    "{3 \\cdot 4 + 0 \\cdot 0}&{ - 1 \\cdot 3 + 0 \\cdot 5}\n",
    "\\end{array}} \\right) = \\left( {\\begin{array}{*{20}{c}}\n",
    "4&{ - 11}\\\\\n",
    "{12}&{ - 3}\n",
    "\\end{array}} \\right)$\n",
    "\n"
   ]
  },
  {
   "cell_type": "markdown",
   "metadata": {},
   "source": [
    "Из закономерностей сложения и умножения матриц на число можно сделать вывод, что матрицы одного размера образуют линейное пространство. Вычислить линейную комбинацию $3A-2B+4C$ для матриц $A=\\begin{pmatrix}\n",
    "1 & 7\\\\ \n",
    "3 & -6\n",
    "\\end{pmatrix}$, $B=\\begin{pmatrix}\n",
    "0 & 5\\\\ \n",
    "2 & -1\n",
    "\\end{pmatrix}$, $C=\\begin{pmatrix}\n",
    "2 & -4\\\\ \n",
    "1 & 1\n",
    "\\end{pmatrix}.$\n",
    "\n",
    "\n",
    "$3 \\cdot \\left( {\\begin{array}{*{20}{c}}\n",
    "1&7\\\\\n",
    "3&{ - 6}\n",
    "\\end{array}} \\right) - 2 \\cdot \\left( {\\begin{array}{*{20}{c}}\n",
    "0&5\\\\\n",
    "2&{ - 1}\n",
    "\\end{array}} \\right) + 4 \\cdot \\left( {\\begin{array}{*{20}{c}}\n",
    "2&{ - 4}\\\\\n",
    "1&1\n",
    "\\end{array}} \\right) = \\left( {\\begin{array}{*{20}{c}}\n",
    "3&{21}\\\\\n",
    "9&{ - 18}\n",
    "\\end{array}} \\right) - \\left( {\\begin{array}{*{20}{c}}\n",
    "0&{10}\\\\\n",
    "4&{ - 2}\n",
    "\\end{array}} \\right) + \\left( {\\begin{array}{*{20}{c}}\n",
    "8&{ - 16}\\\\\n",
    "4&4\n",
    "\\end{array}} \\right) = \\left( {\\begin{array}{*{20}{c}}\n",
    "{3 - 0 + 8}&{21 - 10 - 16}\\\\\n",
    "{9 - 4 + 4}&{ - 18 + 2 + 4}\n",
    "\\end{array}} \\right) = \\left( {\\begin{array}{*{20}{c}}\n",
    "{11}&{ - 5}\\\\\n",
    "9&{ - 12}\n",
    "\\end{array}} \\right)$\n",
    " "
   ]
  },
  {
   "cell_type": "markdown",
   "metadata": {},
   "source": [
    "Дана матрица $A=\\begin{pmatrix}\n",
    "4 & 1\\\\ \n",
    "5 & -2\\\\ \n",
    "2 & 3\n",
    "\\end{pmatrix}$.\n",
    "Вычислить $AA^{T}$ и $A^{T}A$."
   ]
  },
  {
   "cell_type": "markdown",
   "metadata": {},
   "source": [
    "${A^T} = \\left( {\\begin{array}{*{20}{c}}\n",
    "4&5&2\\\\\n",
    "1&{ - 2}&3\n",
    "\\end{array}} \\right)$\n",
    "\n",
    "${A^T} \\cdot A = \\left( {\\begin{array}{*{20}{c}}\n",
    "4&5&2\\\\\n",
    "1&{ - 2}&3\n",
    "\\end{array}} \\right) \\cdot \\left( {\\begin{array}{*{20}{c}}\n",
    "4&1\\\\\n",
    "5&{ - 2}\\\\\n",
    "2&3\n",
    "\\end{array}} \\right) = \\left( {\\begin{array}{*{20}{c}}\n",
    "{4 \\cdot 4 + 5 \\cdot 5 + 2 \\cdot 2}&{4 \\cdot 1 - 2 \\cdot 5 + 3 \\cdot 2}\\\\\n",
    "{1 \\cdot 4 - 2 \\cdot 5 + 3 \\cdot 2}&{1 \\cdot 1 + 2 \\cdot 2 + 3 \\cdot 3}\n",
    "\\end{array}} \\right) = \\left( {\\begin{array}{*{20}{c}}\n",
    "{45}&0\\\\\n",
    "0&{14}\n",
    "\\end{array}} \\right)$\n",
    "\n",
    "$A \\cdot {A^T} = \\left( {\\begin{array}{*{20}{c}}\n",
    "4&1\\\\\n",
    "5&{ - 2}\\\\\n",
    "2&3\n",
    "\\end{array}} \\right) \\cdot \\left( {\\begin{array}{*{20}{c}}\n",
    "4&5&2\\\\\n",
    "1&{ - 2}&3\n",
    "\\end{array}} \\right) = \\left( {\\begin{array}{*{20}{c}}\n",
    "{4 \\cdot 4 + 1 \\cdot 1}&{4 \\cdot 5 - 2 \\cdot 1}&{4 \\cdot 2 + 1 \\cdot 3}\\\\\n",
    "{5 \\cdot 4 - 2 \\cdot 1}&{5 \\cdot 5 + 2 \\cdot 2}&{2 \\cdot 5 - 2 \\cdot 3}\\\\\n",
    "{2 \\cdot 4 + 3 \\cdot 1}&{2 \\cdot 5 - 2 \\cdot 3}&{2 \\cdot 2 + 3 \\cdot 3}\n",
    "\\end{array}} \\right) = \\left( {\\begin{array}{*{20}{c}}\n",
    "{17}&{18}&{11}\\\\\n",
    "{18}&{29}&4\\\\\n",
    "{11}&4&{13}\n",
    "\\end{array}} \\right)$"
   ]
  },
  {
   "cell_type": "code",
   "execution_count": 5,
   "metadata": {},
   "outputs": [
    {
     "data": {
      "text/plain": [
       "array([[ 4,  5,  2],\n",
       "       [ 1, -2,  3]])"
      ]
     },
     "execution_count": 5,
     "metadata": {},
     "output_type": "execute_result"
    }
   ],
   "source": [
    "A = np.array([[4, 1], [5, -2], [2, 3]])\n",
    "At = A.T\n",
    "At"
   ]
  },
  {
   "cell_type": "code",
   "execution_count": 6,
   "metadata": {},
   "outputs": [
    {
     "name": "stdout",
     "output_type": "stream",
     "text": [
      "Матрица AB\n",
      "[[17 18 11]\n",
      " [18 29  4]\n",
      " [11  4 13]]\n"
     ]
    }
   ],
   "source": [
    "print(f'Матрица AB\\n{np.dot(A, At)}')"
   ]
  },
  {
   "cell_type": "code",
   "execution_count": 7,
   "metadata": {},
   "outputs": [
    {
     "name": "stdout",
     "output_type": "stream",
     "text": [
      "Матрица AB\n",
      "[[45  0]\n",
      " [ 0 14]]\n"
     ]
    }
   ],
   "source": [
    "print(f'Матрица AB\\n{np.dot(At, A)}')"
   ]
  }
 ],
 "metadata": {
  "kernelspec": {
   "display_name": "Python 3",
   "language": "python",
   "name": "python3"
  },
  "language_info": {
   "codemirror_mode": {
    "name": "ipython",
    "version": 3
   },
   "file_extension": ".py",
   "mimetype": "text/x-python",
   "name": "python",
   "nbconvert_exporter": "python",
   "pygments_lexer": "ipython3",
   "version": "3.8.5"
  }
 },
 "nbformat": 4,
 "nbformat_minor": 4
}
